{
  "nbformat": 4,
  "nbformat_minor": 0,
  "metadata": {
    "colab": {
      "provenance": []
    },
    "kernelspec": {
      "name": "python3",
      "display_name": "Python 3"
    },
    "language_info": {
      "name": "python"
    }
  },
  "cells": [
    {
      "cell_type": "code",
      "execution_count": null,
      "metadata": {
        "id": "5nFjKP7vb4qM"
      },
      "outputs": [],
      "source": [
        "from keras.datasets import mnist\n",
        "from keras.models import Sequential\n",
        "from keras.layers import Dense\n",
        "from keras.initializers import RandomNormal"
      ]
    },
    {
      "cell_type": "code",
      "source": [
        "(X_train, y_train) , (X_test, y_test) = mnist.load_data()\n",
        "X_train.shape"
      ],
      "metadata": {
        "colab": {
          "base_uri": "https://localhost:8080/"
        },
        "id": "meZN4oTHc0Pg",
        "outputId": "b5424681-99a7-4e9e-b0c1-3a7902b0b346"
      },
      "execution_count": null,
      "outputs": [
        {
          "output_type": "execute_result",
          "data": {
            "text/plain": [
              "(60000, 28, 28)"
            ]
          },
          "metadata": {},
          "execution_count": 2
        }
      ]
    },
    {
      "cell_type": "code",
      "source": [
        "#Show data\n",
        "import matplotlib.pyplot as plt\n",
        "\n",
        "fig, ax = plt.subplots(1, 5, figsize=(10, 10))\n",
        "\n",
        "for i in range(5):\n",
        "    ax[i].imshow(X_train[i])\n",
        "    ax[i].set_title(f\"Label: {y_train[i]}\")\n",
        "    \n",
        "plt.show()"
      ],
      "metadata": {
        "colab": {
          "base_uri": "https://localhost:8080/",
          "height": 160
        },
        "id": "mGXMpmZadg2C",
        "outputId": "6e7e0680-6907-4f91-833c-18d515eaa5da"
      },
      "execution_count": null,
      "outputs": [
        {
          "output_type": "display_data",
          "data": {
            "text/plain": [
              "<Figure size 720x720 with 5 Axes>"
            ],
            "image/png": "[encoded data removed]"
          },
          "metadata": {
            "needs_background": "light"
          }
        }
      ]
    },
    {
      "cell_type": "code",
      "source": [
        "#reshape to vector\n",
        "X_train = X_train.reshape(X_train.shape[0],28*28)"
      ],
      "metadata": {
        "id": "ycvNg5IIdA7Z"
      },
      "execution_count": null,
      "outputs": []
    },
    {
      "cell_type": "code",
      "source": [
        "X_train = X_train / 255.0"
      ],
      "metadata": {
        "id": "jRxbDbFsf4LK"
      },
      "execution_count": null,
      "outputs": []
    },
    {
      "cell_type": "code",
      "source": [
        "# import numpy as np\n",
        "# print(X_train)\n",
        "\n",
        "# X_train_reshaped = np.reshape(X_train[0], (28, 28))\n",
        "# print(X_train_reshaped)\n",
        "\n",
        "# #display the reshaped array as an image\n",
        "# import matplotlib.pyplot as plt\n",
        "# plt.imshow(X_train_reshaped, cmap='gray')\n",
        "# plt.show()"
      ],
      "metadata": {
        "id": "2bWMN3LLemp5"
      },
      "execution_count": null,
      "outputs": []
    },
    {
      "cell_type": "code",
      "source": [
        "#khởi tạo một phân phối ngẫu nhiên (RandomNormal) với giá trị trung bình (mean) là 1 và độ lệch chuẩn (stddev) là 1. Phân phối này được sử dụng để khởi tạo trọng số (weights) cho các lớp trong mô hình.\n",
        "w_init = RandomNormal(mean = 1, stddev = 1)"
      ],
      "metadata": {
        "id": "p4xeRSAsgxRd"
      },
      "execution_count": null,
      "outputs": []
    },
    {
      "cell_type": "code",
      "source": [
        "# khởi tạo một mô hình tuần tự (Sequential). Mô hình tuần tự là một kiểu mô hình đơn giản trong Keras, trong đó các lớp được xếp chồng lên nhau theo thứ tự tương ứng với luồng dữ liệu của chúng.\n",
        "model = Sequential()\n",
        "#thêm một lớp Dense với 128 nơ-ron và hàm kích hoạt sigmoid. Lớp này sẽ nhận đầu vào có kích thước 28*28 (kích thước của hình ảnh đầu vào) và sử dụng phân phối ngẫu nhiên được khởi tạo từ đầu tiên để khởi tạo trọng số.\n",
        "model.add(Dense(128, activation='sigmoid', kernel_initializer=w_init, input_dim = 28*28))\n",
        "#thêm một lớp Dense với 10 nơ-ron và hàm kích hoạt softmax. Lớp này sẽ đưa ra dự đoán cho 10 lớp (tương ứng với 10 chữ số từ 0 đến 9). Lớp này cũng sử dụng phân phối ngẫu nhiên được khởi tạo từ đầu tiên để khởi tạo trọng số.\n",
        "model.add(Dense(10, activation='softmax', kernel_initializer=w_init))\n",
        "#biên dịch mô hình bằng cách sử dụng hàm mất mát sparse_categorical_crossentropy và thuật toán tối ưu adam. sparse_categorical_crossentropy được sử dụng khi chúng ta có các nhãn mục tiêu ở dạng số nguyên (ví dụ như trong bộ dữ liệu MNIST). Thuật toán tối ưu adam là một thuật toán gradient descent được sử dụng để tối ưu hàm mất mát.\n",
        "model.compile(loss = 'sparse_categorical_crossentropy', optimizer = 'adam',metrics = ['accuracy'])\n",
        "\n",
        "model.summary()\n"
      ],
      "metadata": {
        "colab": {
          "base_uri": "https://localhost:8080/"
        },
        "id": "gvYPTPnUflH8",
        "outputId": "27b76600-517c-4560-85df-a4a53ec59887"
      },
      "execution_count": null,
      "outputs": [
        {
          "output_type": "stream",
          "name": "stdout",
          "text": [
            "Model: \"sequential\"\n",
            "_________________________________________________________________\n",
            " Layer (type)                Output Shape              Param #   \n",
            "=================================================================\n",
            " dense (Dense)               (None, 128)               100480    \n",
            "                                                                 \n",
            " dense_1 (Dense)             (None, 10)                1290      \n",
            "                                                                 \n",
            "=================================================================\n",
            "Total params: 101,770\n",
            "Trainable params: 101,770\n",
            "Non-trainable params: 0\n",
            "_________________________________________________________________\n"
          ]
        },
        {
          "output_type": "stream",
          "name": "stderr",
          "text": [
            "/usr/local/lib/python3.9/dist-packages/keras/initializers/initializers_v2.py:120: UserWarning: The initializer RandomNormal is unseeded and being called multiple times, which will return identical values  each time (even if the initializer is unseeded). Please update your code to provide a seed to the initializer, or avoid using the same initalizer instance more than once.\n",
            "  warnings.warn(\n"
          ]
        }
      ]
    },
    {
      "cell_type": "markdown",
      "source": [
        "loss='sparse_categorical_crossentropy' được sử dụng để đánh giá sự khác biệt giữa các giá trị dự đoán của mô hình và các nhãn thực tế. Loại hàm mất mát này được sử dụng cho bài toán phân loại đa lớp, trong đó mỗi mẫu được chỉ định bởi một số nguyên là nhãn của lớp tương ứng của nó.\n",
        "\n",
        "optimizer='adam' là một thuật toán tối ưu hóa sử dụng để điều chỉnh các tham số mô hình để giảm thiểu hàm mất mát. Adam là một trong những thuật toán tối ưu hóa phổ biến trong deep learning.\n",
        "\n",
        "metrics=['accuracy'] được sử dụng để đánh giá độ chính xác của mô hình. Trong trường hợp này, độ chính xác được sử dụng làm độ đo để đánh giá hiệu suất của mô hình."
      ],
      "metadata": {
        "id": "5lcSGLUtiTVY"
      }
    },
    {
      "cell_type": "code",
      "source": [
        "model.fit(X_train, y_train, epochs = 10, batch_size = 128)\n",
        "#Epochs đại diện cho số lần mà mô hình sẽ được huấn luyện trên toàn bộ tập dữ liệu. \n",
        "#Ví dụ, nếu epochs được đặt là 10, thì mô hình sẽ được huấn luyện qua toàn bộ tập dữ liệu 10 lần.\n",
        "\n",
        "#Batch_size đại diện cho số lượng mẫu dữ liệu được sử dụng trong mỗi lần cập nhật trọng số của mô hình. \n",
        "#Nó cho biết bao nhiêu mẫu dữ liệu được truyền vào mô hình trong mỗi lần huấn luyện. \n",
        "#Ví dụ, nếu batch_size được đặt là 128, thì mỗi lần huấn luyện, mô hình sẽ được huấn luyện trên 128 mẫu dữ liệu.\n",
        "#Các giá trị Batch size thường dùng là 32, 64, 128, 256... (2^n để việc tính toán được nhanh hơn)\n"
      ],
      "metadata": {
        "colab": {
          "base_uri": "https://localhost:8080/"
        },
        "id": "cWTDJnciiVgJ",
        "outputId": "98110611-b2a8-4933-ba31-f649273f06f6"
      },
      "execution_count": null,
      "outputs": [
        {
          "output_type": "stream",
          "name": "stdout",
          "text": [
            "Epoch 1/10\n",
            "469/469 [==============================] - 3s 6ms/step - loss: 2.3095 - accuracy: 0.1045\n",
            "Epoch 2/10\n",
            "469/469 [==============================] - 3s 6ms/step - loss: 2.3096 - accuracy: 0.1023\n",
            "Epoch 3/10\n",
            "469/469 [==============================] - 4s 9ms/step - loss: 2.3086 - accuracy: 0.1065\n",
            "Epoch 4/10\n",
            "469/469 [==============================] - 3s 7ms/step - loss: 2.3099 - accuracy: 0.1036\n",
            "Epoch 5/10\n",
            "469/469 [==============================] - 2s 5ms/step - loss: 2.3090 - accuracy: 0.1022\n",
            "Epoch 6/10\n",
            "469/469 [==============================] - 2s 5ms/step - loss: 2.3088 - accuracy: 0.1034\n",
            "Epoch 7/10\n",
            "469/469 [==============================] - 3s 7ms/step - loss: 2.2847 - accuracy: 0.0963\n",
            "Epoch 8/10\n",
            "469/469 [==============================] - 3s 6ms/step - loss: 2.1578 - accuracy: 0.1525\n",
            "Epoch 9/10\n",
            "469/469 [==============================] - 3s 6ms/step - loss: 2.0795 - accuracy: 0.1821\n",
            "Epoch 10/10\n",
            "469/469 [==============================] - 2s 5ms/step - loss: 2.0344 - accuracy: 0.1943\n"
          ]
        },
        {
          "output_type": "execute_result",
          "data": {
            "text/plain": [
              "<keras.callbacks.History at 0x7f7ce56aba60>"
            ]
          },
          "metadata": {},
          "execution_count": 10
        }
      ]
    },
    {
      "cell_type": "markdown",
      "source": [
        "**Bài Học**\n",
        "1. vấn đề vanishing gradient xảy ra do giá trị gradient quá thấp, gây ra sự cải thiện rất nhỏ hoặc không đáng kể trong trọng số (Weights). Điều này ảnh hưởng đến quá trình huấn luyện mô hình và khiến cho mô hình không đạt được hiệu quả như mong muốn.\n",
        "2. chúng ta không sử dụng hàm 'sigmoid' trong hidden layer của mạng neural vì chúng cho ra gradient rất thấp trong quá trình lan truyền ngược (backpropogation). Điều này ảnh hưởng đến khả năng học của mô hình và gây ra vấn đề vanishing gradient. Thay vào đó, chúng ta sử dụng các hàm kích hoạt khác như ReLU, LeakyReLU hoặc ELU"
      ],
      "metadata": {
        "id": "qSjhUFJ0lw8u"
      }
    }
  ]
}