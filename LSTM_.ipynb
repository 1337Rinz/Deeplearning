{
  "nbformat": 4,
  "nbformat_minor": 0,
  "metadata": {
    "colab": {
      "provenance": [],
      "authorship_tag": "ABX9TyOGMBZMnsLgJsSWP8fSEjHg",
      "include_colab_link": true
    },
    "kernelspec": {
      "name": "python3",
      "display_name": "Python 3"
    },
    "language_info": {
      "name": "python"
    }
  },
  "cells": [
    {
      "cell_type": "markdown",
      "metadata": {
        "id": "view-in-github",
        "colab_type": "text"
      },
      "source": [
        "<a href=\"https://colab.research.google.com/github/1337Rinz/Deeplearning/blob/main/LSTM_.ipynb\" target=\"_parent\"><img src=\"https://colab.research.google.com/assets/colab-badge.svg\" alt=\"Open In Colab\"/></a>"
      ]
    },
    {
      "cell_type": "code",
      "execution_count": 7,
      "metadata": {
        "id": "ftem18r6CWaV"
      },
      "outputs": [],
      "source": [
        "import numpy as np\n",
        "from keras.models import Sequential\n",
        "from keras.layers import Dense, Dropout, LSTM\n",
        "from keras.callbacks import ModelCheckpoint\n",
        "from keras.utils import np_utils\n",
        "import os"
      ]
    },
    {
      "cell_type": "code",
      "source": [
        "import requests\n",
        "\n",
        "url = \"https://raw.githubusercontent.com/1337Rinz/DATA_for_machine_learning/main/wonderland.txt\"\n",
        "response = requests.get(url)\n",
        "raw_text = response.text"
      ],
      "metadata": {
        "id": "1btbLatEDZ82"
      },
      "execution_count": 8,
      "outputs": []
    },
    {
      "cell_type": "code",
      "source": [
        "chars = sorted(list(set(raw_text)))\n",
        "char_to_int = dict((c, i) for i, c in enumerate(chars))\n",
        "print('number of letters: ', len(char_to_int))\n",
        "print(char_to_int)"
      ],
      "metadata": {
        "colab": {
          "base_uri": "https://localhost:8080/"
        },
        "id": "mAyBfdmjDhXQ",
        "outputId": "94fe434a-5251-4324-c6a0-3bdffc51415e"
      },
      "execution_count": 9,
      "outputs": [
        {
          "output_type": "stream",
          "name": "stdout",
          "text": [
            "number of letters:  72\n",
            "{'\\n': 0, ' ': 1, '!': 2, '\"': 3, \"'\": 4, '(': 5, ')': 6, '*': 7, ',': 8, '-': 9, '.': 10, '0': 11, '3': 12, ':': 13, ';': 14, '?': 15, 'A': 16, 'B': 17, 'C': 18, 'D': 19, 'E': 20, 'F': 21, 'G': 22, 'H': 23, 'I': 24, 'J': 25, 'K': 26, 'L': 27, 'M': 28, 'N': 29, 'O': 30, 'P': 31, 'Q': 32, 'R': 33, 'S': 34, 'T': 35, 'U': 36, 'V': 37, 'W': 38, 'X': 39, 'Y': 40, 'Z': 41, '[': 42, ']': 43, '_': 44, '`': 45, 'a': 46, 'b': 47, 'c': 48, 'd': 49, 'e': 50, 'f': 51, 'g': 52, 'h': 53, 'i': 54, 'j': 55, 'k': 56, 'l': 57, 'm': 58, 'n': 59, 'o': 60, 'p': 61, 'q': 62, 'r': 63, 's': 64, 't': 65, 'u': 66, 'v': 67, 'w': 68, 'x': 69, 'y': 70, 'z': 71}\n"
          ]
        }
      ]
    },
    {
      "cell_type": "code",
      "source": [
        "import string\n",
        "string.ascii_lowercase\n",
        "# string.digits\n",
        "# string.punctuation\n",
        "chars_new = list(string.ascii_lowercase) + ['0', '.', ',', ' ', '!', '?', 'unk']\n",
        "chars_to_int = dict((v, k) for k, v in enumerate(chars_new))\n",
        "int_to_chars = dict((k, v) for k, v in enumerate(chars_new))\n",
        "print('character to int:', chars_to_int)\n",
        "print('int to character:', int_to_chars)\n",
        "# def _clean_char(text):\n",
        "#     return 1"
      ],
      "metadata": {
        "colab": {
          "base_uri": "https://localhost:8080/"
        },
        "id": "fsMU9H1BD8oD",
        "outputId": "04a7e387-8239-4f3d-cd7a-9e8b75b7a500"
      },
      "execution_count": 11,
      "outputs": [
        {
          "output_type": "stream",
          "name": "stdout",
          "text": [
            "character to int: {'a': 0, 'b': 1, 'c': 2, 'd': 3, 'e': 4, 'f': 5, 'g': 6, 'h': 7, 'i': 8, 'j': 9, 'k': 10, 'l': 11, 'm': 12, 'n': 13, 'o': 14, 'p': 15, 'q': 16, 'r': 17, 's': 18, 't': 19, 'u': 20, 'v': 21, 'w': 22, 'x': 23, 'y': 24, 'z': 25, '0': 26, '.': 27, ',': 28, ' ': 29, '!': 30, '?': 31, 'unk': 32}\n",
            "int to character: {0: 'a', 1: 'b', 2: 'c', 3: 'd', 4: 'e', 5: 'f', 6: 'g', 7: 'h', 8: 'i', 9: 'j', 10: 'k', 11: 'l', 12: 'm', 13: 'n', 14: 'o', 15: 'p', 16: 'q', 17: 'r', 18: 's', 19: 't', 20: 'u', 21: 'v', 22: 'w', 23: 'x', 24: 'y', 25: 'z', 26: '0', 27: '.', 28: ',', 29: ' ', 30: '!', 31: '?', 32: 'unk'}\n"
          ]
        }
      ]
    },
    {
      "cell_type": "code",
      "source": [
        "n_chars = len(raw_text)\n",
        "n_vocab = len(chars_new)\n",
        "print('Total characters: ', n_chars)\n",
        "print('Total Vocab: ', n_vocab)"
      ],
      "metadata": {
        "colab": {
          "base_uri": "https://localhost:8080/"
        },
        "id": "8QK9tOQKD_0U",
        "outputId": "de1f82bd-a35e-4651-8a2e-fd3da55ce2fe"
      },
      "execution_count": 12,
      "outputs": [
        {
          "output_type": "stream",
          "name": "stdout",
          "text": [
            "Total characters:  148575\n",
            "Total Vocab:  33\n"
          ]
        }
      ]
    },
    {
      "cell_type": "code",
      "source": [
        "def _encode_sen(text):\n",
        "    text = text.lower()\n",
        "    sen_vec = []\n",
        "    for let in text:\n",
        "        if let in chars_new[:-1]:\n",
        "            idx = chars_to_int[let]\n",
        "        else:\n",
        "            idx = chars_to_int['unk']\n",
        "        sen_vec.append(idx)\n",
        "    return sen_vec\n",
        "\n",
        "x_test = _encode_sen('Alice is a wonderful story. #')\n",
        "print(x_test)"
      ],
      "metadata": {
        "colab": {
          "base_uri": "https://localhost:8080/"
        },
        "id": "1fpoSZ3CECUZ",
        "outputId": "2e715c5a-a113-4c3b-8eb1-c53de608b2a1"
      },
      "execution_count": 13,
      "outputs": [
        {
          "output_type": "stream",
          "name": "stdout",
          "text": [
            "[0, 11, 8, 2, 4, 29, 8, 18, 29, 0, 29, 22, 14, 13, 3, 4, 17, 5, 20, 11, 29, 18, 19, 14, 17, 24, 27, 29, 32]\n"
          ]
        }
      ]
    },
    {
      "cell_type": "code",
      "source": [
        "def _decode_sen(vec):\n",
        "    text = []\n",
        "    for i in vec:\n",
        "        let = int_to_chars[i]\n",
        "        text.append(let)\n",
        "    text = ''.join(text)\n",
        "    return text\n",
        "\n",
        "_decode_sen(x_test)"
      ],
      "metadata": {
        "colab": {
          "base_uri": "https://localhost:8080/",
          "height": 36
        },
        "id": "Wq-IaNjkEE0_",
        "outputId": "2013d9f8-c8af-4550-f76a-a1115cf330d2"
      },
      "execution_count": 15,
      "outputs": [
        {
          "output_type": "execute_result",
          "data": {
            "text/plain": [
              "'alice is a wonderful story. unk'"
            ],
            "application/vnd.google.colaboratory.intrinsic+json": {
              "type": "string"
            }
          },
          "metadata": {},
          "execution_count": 15
        }
      ]
    },
    {
      "cell_type": "code",
      "source": [
        "# prepare the dataset of input to output pairs encoded as integers\n",
        "seq_length = 100\n",
        "dataX = []\n",
        "dataY = []\n",
        "for i in range(0, n_chars - seq_length, 1):\n",
        "    # Lấy ra 100 kí tự liền trước\n",
        "    seq_in = raw_text[i:i + seq_length]\n",
        "    # Lấy ra kí tự liền sau 100 kí tự đó\n",
        "    seq_out = raw_text[i + seq_length]\n",
        "    dataX.append(_encode_sen(seq_in))\n",
        "    dataY.append(_encode_sen(seq_out)[0])\n",
        "    n_patterns = len(dataX)\n",
        "print(\"Total Patterns: \", n_patterns)"
      ],
      "metadata": {
        "colab": {
          "base_uri": "https://localhost:8080/"
        },
        "id": "LR7OgZGEEJQ4",
        "outputId": "27c3450c-4eda-4371-da2b-fd14214d898b"
      },
      "execution_count": 16,
      "outputs": [
        {
          "output_type": "stream",
          "name": "stdout",
          "text": [
            "Total Patterns:  148475\n"
          ]
        }
      ]
    },
    {
      "cell_type": "code",
      "source": [
        "# reshape X to be [samples, time steps, features]\n",
        "X_train = numpy.reshape(dataX, (n_patterns, seq_length, 1))\n",
        "# normalize\n",
        "X_train = X_train / float(n_vocab)\n",
        "# one hot encode the output variable\n",
        "y_train = np_utils.to_categorical(dataY)\n",
        "print('X [samples, time steps, features] shape: ', X_train.shape)\n",
        "print('Y shape: ', y_train.shape)"
      ],
      "metadata": {
        "colab": {
          "base_uri": "https://localhost:8080/"
        },
        "id": "ugGRFsptEPFm",
        "outputId": "ad2c738d-5870-46ad-ab7c-c0d296c889dd"
      },
      "execution_count": 17,
      "outputs": [
        {
          "output_type": "stream",
          "name": "stdout",
          "text": [
            "X [samples, time steps, features] shape:  (148475, 100, 1)\n",
            "Y shape:  (148475, 33)\n"
          ]
        }
      ]
    },
    {
      "cell_type": "code",
      "source": [
        "print(type(X_train))\n",
        "print(type(y_train))"
      ],
      "metadata": {
        "colab": {
          "base_uri": "https://localhost:8080/"
        },
        "id": "H8M3AABeEQ-S",
        "outputId": "5b74e5a9-e7d5-4cf7-a73c-89ec82acf534"
      },
      "execution_count": 18,
      "outputs": [
        {
          "output_type": "stream",
          "name": "stdout",
          "text": [
            "<class 'numpy.ndarray'>\n",
            "<class 'numpy.ndarray'>\n"
          ]
        }
      ]
    },
    {
      "cell_type": "code",
      "source": [
        "import seaborn as sn\n",
        "import numpy as np\n",
        "import matplotlib.pyplot as plt\n",
        "plt.figure(figsize = (10, 5))\n",
        "sn.countplot(np.array(dataY))\n",
        "plt.xticks(np.arange(33),np.array(chars_new))"
      ],
      "metadata": {
        "colab": {
          "base_uri": "https://localhost:8080/",
          "height": 1000
        },
        "id": "BOKHTNowESzz",
        "outputId": "1d0d9bfb-83b3-4443-f712-9791c4f91d72"
      },
      "execution_count": 21,
      "outputs": [
        {
          "output_type": "execute_result",
          "data": {
            "text/plain": [
              "([<matplotlib.axis.XTick at 0x7f7960e56220>,\n",
              "  <matplotlib.axis.XTick at 0x7f7960e561f0>,\n",
              "  <matplotlib.axis.XTick at 0x7f7960e4e2e0>,\n",
              "  <matplotlib.axis.XTick at 0x7f7960e09760>,\n",
              "  <matplotlib.axis.XTick at 0x7f7960e0c250>,\n",
              "  <matplotlib.axis.XTick at 0x7f7960e0c760>,\n",
              "  <matplotlib.axis.XTick at 0x7f7960e15250>,\n",
              "  <matplotlib.axis.XTick at 0x7f7960e15d00>,\n",
              "  <matplotlib.axis.XTick at 0x7f7960e197f0>,\n",
              "  <matplotlib.axis.XTick at 0x7f7960e15f40>,\n",
              "  <matplotlib.axis.XTick at 0x7f7960e75a00>,\n",
              "  <matplotlib.axis.XTick at 0x7f7960e20640>,\n",
              "  <matplotlib.axis.XTick at 0x7f7960e20d90>,\n",
              "  <matplotlib.axis.XTick at 0x7f7960da7be0>,\n",
              "  <matplotlib.axis.XTick at 0x7f7960e20190>,\n",
              "  <matplotlib.axis.XTick at 0x7f7960dad640>,\n",
              "  <matplotlib.axis.XTick at 0x7f7960dadd90>,\n",
              "  <matplotlib.axis.XTick at 0x7f7960db4be0>,\n",
              "  <matplotlib.axis.XTick at 0x7f7960dbb6d0>,\n",
              "  <matplotlib.axis.XTick at 0x7f7960dad1f0>,\n",
              "  <matplotlib.axis.XTick at 0x7f7960dbbfd0>,\n",
              "  <matplotlib.axis.XTick at 0x7f7960dc2ac0>,\n",
              "  <matplotlib.axis.XTick at 0x7f7960dc85b0>,\n",
              "  <matplotlib.axis.XTick at 0x7f7960dc8d00>,\n",
              "  <matplotlib.axis.XTick at 0x7f7960dbba60>,\n",
              "  <matplotlib.axis.XTick at 0x7f7960dce910>,\n",
              "  <matplotlib.axis.XTick at 0x7f7960dd5400>,\n",
              "  <matplotlib.axis.XTick at 0x7f7960dd5eb0>,\n",
              "  <matplotlib.axis.XTick at 0x7f7960dd5af0>,\n",
              "  <matplotlib.axis.XTick at 0x7f7960ddc7f0>,\n",
              "  <matplotlib.axis.XTick at 0x7f7960d632e0>,\n",
              "  <matplotlib.axis.XTick at 0x7f7960d63d90>,\n",
              "  <matplotlib.axis.XTick at 0x7f7960d68880>],\n",
              " [Text(0, 0, 'a'),\n",
              "  Text(1, 0, 'b'),\n",
              "  Text(2, 0, 'c'),\n",
              "  Text(3, 0, 'd'),\n",
              "  Text(4, 0, 'e'),\n",
              "  Text(5, 0, 'f'),\n",
              "  Text(6, 0, 'g'),\n",
              "  Text(7, 0, 'h'),\n",
              "  Text(8, 0, 'i'),\n",
              "  Text(9, 0, 'j'),\n",
              "  Text(10, 0, 'k'),\n",
              "  Text(11, 0, 'l'),\n",
              "  Text(12, 0, 'm'),\n",
              "  Text(13, 0, 'n'),\n",
              "  Text(14, 0, 'o'),\n",
              "  Text(15, 0, 'p'),\n",
              "  Text(16, 0, 'q'),\n",
              "  Text(17, 0, 'r'),\n",
              "  Text(18, 0, 's'),\n",
              "  Text(19, 0, 't'),\n",
              "  Text(20, 0, 'u'),\n",
              "  Text(21, 0, 'v'),\n",
              "  Text(22, 0, 'w'),\n",
              "  Text(23, 0, 'x'),\n",
              "  Text(24, 0, 'y'),\n",
              "  Text(25, 0, 'z'),\n",
              "  Text(26, 0, '0'),\n",
              "  Text(27, 0, '.'),\n",
              "  Text(28, 0, ','),\n",
              "  Text(29, 0, ' '),\n",
              "  Text(30, 0, '!'),\n",
              "  Text(31, 0, '?'),\n",
              "  Text(32, 0, 'unk')])"
            ]
          },
          "metadata": {},
          "execution_count": 21
        },
        {
          "output_type": "display_data",
          "data": {
            "text/plain": [
              "<Figure size 720x360 with 1 Axes>"
            ],
            "image/png": "[encoded data removed]"
          },
          "metadata": {
            "needs_background": "light"
          }
        }
      ]
    },
    {
      "cell_type": "code",
      "source": [
        "#LSTM\n",
        "model = Sequential()\n",
        "model.add(LSTM(256, input_shape = (X_train.shape[1], X_train.shape[2])))\n",
        "model.add(Dropout(0.2))\n",
        "model.add(Dense(y_train.shape[1], activation = 'softmax'))\n",
        "model.compile(loss = 'categorical_crossentropy', optimizer = 'adam', metrics = ['accuracy'])\n",
        "model.summary()"
      ],
      "metadata": {
        "colab": {
          "base_uri": "https://localhost:8080/"
        },
        "id": "5uY6dZ2EEo7K",
        "outputId": "1c35a4b2-7e8f-441e-ff49-f9b0ae347a0b"
      },
      "execution_count": 27,
      "outputs": [
        {
          "output_type": "stream",
          "name": "stdout",
          "text": [
            "Model: \"sequential_3\"\n",
            "_________________________________________________________________\n",
            " Layer (type)                Output Shape              Param #   \n",
            "=================================================================\n",
            " lstm_3 (LSTM)               (None, 256)               264192    \n",
            "                                                                 \n",
            " dropout_3 (Dropout)         (None, 256)               0         \n",
            "                                                                 \n",
            " dense_1 (Dense)             (None, 33)                8481      \n",
            "                                                                 \n",
            "=================================================================\n",
            "Total params: 272,673\n",
            "Trainable params: 272,673\n",
            "Non-trainable params: 0\n",
            "_________________________________________________________________\n"
          ]
        }
      ]
    },
    {
      "cell_type": "code",
      "source": [
        "filepath = 'weights-improvement-{epoch:02d}-{loss:.4f}.hdf5'\n",
        "checkpoint = ModelCheckpoint(filepath, monitor = 'val_acc', verbose = 1, save_best_only = True, mode = 'max')\n",
        "callback_list = [checkpoint]"
      ],
      "metadata": {
        "id": "vDFm5_ahFO3p"
      },
      "execution_count": 28,
      "outputs": []
    },
    {
      "cell_type": "code",
      "source": [
        "model.fit(X_train, y_train, epochs = 5, batch_size = 128, validation_split=0.33, callbacks = callback_list, verbose = 1)"
      ],
      "metadata": {
        "colab": {
          "base_uri": "https://localhost:8080/"
        },
        "id": "Yh0Js7JUFRl-",
        "outputId": "03f545a3-dd45-4def-8178-b63d3f5e959d"
      },
      "execution_count": 29,
      "outputs": [
        {
          "output_type": "stream",
          "name": "stdout",
          "text": [
            "Epoch 1/5\n",
            "778/778 [==============================] - ETA: 0s - loss: 2.8765 - accuracy: 0.1972"
          ]
        },
        {
          "output_type": "stream",
          "name": "stderr",
          "text": [
            "WARNING:tensorflow:Can save best model only with val_acc available, skipping.\n"
          ]
        },
        {
          "output_type": "stream",
          "name": "stdout",
          "text": [
            "\b\b\b\b\b\b\b\b\b\b\b\b\b\b\b\b\b\b\b\b\b\b\b\b\b\b\b\b\b\b\b\b\b\b\b\b\b\b\b\b\b\b\b\b\b\b\b\b\b\b\b\b\b\b\b\b\b\b\b\b\b\b\b\b\b\b\b\b\b\b\b\b\b\b\b\b\b\b\b\b\b\b\b\b\r778/778 [==============================] - 703s 900ms/step - loss: 2.8765 - accuracy: 0.1972 - val_loss: 2.7866 - val_accuracy: 0.1942\n",
            "Epoch 2/5\n",
            "778/778 [==============================] - ETA: 0s - loss: 2.7287 - accuracy: 0.2196"
          ]
        },
        {
          "output_type": "stream",
          "name": "stderr",
          "text": [
            "WARNING:tensorflow:Can save best model only with val_acc available, skipping.\n"
          ]
        },
        {
          "output_type": "stream",
          "name": "stdout",
          "text": [
            "\b\b\b\b\b\b\b\b\b\b\b\b\b\b\b\b\b\b\b\b\b\b\b\b\b\b\b\b\b\b\b\b\b\b\b\b\b\b\b\b\b\b\b\b\b\b\b\b\b\b\b\b\b\b\b\b\b\b\b\b\b\b\b\b\b\b\b\b\b\b\b\b\b\b\b\b\b\b\b\b\b\b\b\b\r778/778 [==============================] - 698s 897ms/step - loss: 2.7287 - accuracy: 0.2196 - val_loss: 2.6851 - val_accuracy: 0.2361\n",
            "Epoch 3/5\n",
            "778/778 [==============================] - ETA: 0s - loss: 2.6446 - accuracy: 0.2459"
          ]
        },
        {
          "output_type": "stream",
          "name": "stderr",
          "text": [
            "WARNING:tensorflow:Can save best model only with val_acc available, skipping.\n"
          ]
        },
        {
          "output_type": "stream",
          "name": "stdout",
          "text": [
            "\b\b\b\b\b\b\b\b\b\b\b\b\b\b\b\b\b\b\b\b\b\b\b\b\b\b\b\b\b\b\b\b\b\b\b\b\b\b\b\b\b\b\b\b\b\b\b\b\b\b\b\b\b\b\b\b\b\b\b\b\b\b\b\b\b\b\b\b\b\b\b\b\b\b\b\b\b\b\b\b\b\b\b\b\r778/778 [==============================] - 688s 884ms/step - loss: 2.6446 - accuracy: 0.2459 - val_loss: 2.6183 - val_accuracy: 0.2520\n",
            "Epoch 4/5\n",
            "778/778 [==============================] - ETA: 0s - loss: 2.5897 - accuracy: 0.2602"
          ]
        },
        {
          "output_type": "stream",
          "name": "stderr",
          "text": [
            "WARNING:tensorflow:Can save best model only with val_acc available, skipping.\n"
          ]
        },
        {
          "output_type": "stream",
          "name": "stdout",
          "text": [
            "\b\b\b\b\b\b\b\b\b\b\b\b\b\b\b\b\b\b\b\b\b\b\b\b\b\b\b\b\b\b\b\b\b\b\b\b\b\b\b\b\b\b\b\b\b\b\b\b\b\b\b\b\b\b\b\b\b\b\b\b\b\b\b\b\b\b\b\b\b\b\b\b\b\b\b\b\b\b\b\b\b\b\b\b\r778/778 [==============================] - 697s 897ms/step - loss: 2.5897 - accuracy: 0.2602 - val_loss: 2.5715 - val_accuracy: 0.2622\n",
            "Epoch 5/5\n",
            "778/778 [==============================] - ETA: 0s - loss: 2.5349 - accuracy: 0.2763"
          ]
        },
        {
          "output_type": "stream",
          "name": "stderr",
          "text": [
            "WARNING:tensorflow:Can save best model only with val_acc available, skipping.\n"
          ]
        },
        {
          "output_type": "stream",
          "name": "stdout",
          "text": [
            "\b\b\b\b\b\b\b\b\b\b\b\b\b\b\b\b\b\b\b\b\b\b\b\b\b\b\b\b\b\b\b\b\b\b\b\b\b\b\b\b\b\b\b\b\b\b\b\b\b\b\b\b\b\b\b\b\b\b\b\b\b\b\b\b\b\b\b\b\b\b\b\b\b\b\b\b\b\b\b\b\b\b\b\b\r778/778 [==============================] - 692s 889ms/step - loss: 2.5349 - accuracy: 0.2763 - val_loss: 2.5342 - val_accuracy: 0.2772\n"
          ]
        },
        {
          "output_type": "execute_result",
          "data": {
            "text/plain": [
              "<keras.callbacks.History at 0x7f79547b41c0>"
            ]
          },
          "metadata": {},
          "execution_count": 29
        }
      ]
    },
    {
      "cell_type": "code",
      "source": [
        "import numpy as np\n",
        "base_word = 'Alice was beginning to get very tired of sitting by her sister on the bank'\n",
        "\n",
        "def _predict_let(text, len_sen = 1):\n",
        "    text_for = []\n",
        "    for i in range(len_sen):\n",
        "        x_input = np.array(_encode_sen(text)[-100:])/float(n_vocab)\n",
        "        if x_input.shape[0] < 100:\n",
        "            x_input = np.concatenate((np.zeros(100-x_input.shape[0]), x_input), axis = 0)\n",
        "        x_input = np.expand_dims(np.expand_dims(x_input, -1), 0)\n",
        "        y_prob = model.predict(x_input)\n",
        "        y_let = int_to_chars[np.argmax(y_prob, axis = 1)[0]]\n",
        "        text = text + y_let\n",
        "    return text[len_sen:]\n",
        "\n",
        "_predict_let(base_word, 100)"
      ],
      "metadata": {
        "colab": {
          "base_uri": "https://localhost:8080/",
          "height": 1000
        },
        "id": "Jj9xEs47Fges",
        "outputId": "99fa2c70-00cc-430d-df05-7d0a24f56a11"
      },
      "execution_count": 30,
      "outputs": [
        {
          "output_type": "stream",
          "name": "stdout",
          "text": [
            "1/1 [==============================] - 2s 2s/step\n",
            "1/1 [==============================] - 0s 113ms/step\n",
            "1/1 [==============================] - 0s 80ms/step\n",
            "1/1 [==============================] - 0s 174ms/step\n",
            "1/1 [==============================] - 0s 163ms/step\n",
            "1/1 [==============================] - 0s 202ms/step\n",
            "1/1 [==============================] - 0s 137ms/step\n",
            "1/1 [==============================] - 0s 169ms/step\n",
            "1/1 [==============================] - 0s 110ms/step\n",
            "1/1 [==============================] - 0s 68ms/step\n",
            "1/1 [==============================] - 0s 135ms/step\n",
            "1/1 [==============================] - 0s 114ms/step\n",
            "1/1 [==============================] - 0s 109ms/step\n",
            "1/1 [==============================] - 0s 145ms/step\n",
            "1/1 [==============================] - 0s 132ms/step\n",
            "1/1 [==============================] - 0s 106ms/step\n",
            "1/1 [==============================] - 0s 140ms/step\n",
            "1/1 [==============================] - 0s 141ms/step\n",
            "1/1 [==============================] - 0s 113ms/step\n",
            "1/1 [==============================] - 0s 87ms/step\n",
            "1/1 [==============================] - 0s 85ms/step\n",
            "1/1 [==============================] - 0s 57ms/step\n",
            "1/1 [==============================] - 0s 62ms/step\n",
            "1/1 [==============================] - 0s 60ms/step\n",
            "1/1 [==============================] - 0s 71ms/step\n",
            "1/1 [==============================] - 0s 77ms/step\n",
            "1/1 [==============================] - 0s 87ms/step\n",
            "1/1 [==============================] - 0s 58ms/step\n",
            "1/1 [==============================] - 0s 59ms/step\n",
            "1/1 [==============================] - 0s 36ms/step\n",
            "1/1 [==============================] - 0s 35ms/step\n",
            "1/1 [==============================] - 0s 42ms/step\n",
            "1/1 [==============================] - 0s 34ms/step\n",
            "1/1 [==============================] - 0s 49ms/step\n",
            "1/1 [==============================] - 0s 37ms/step\n",
            "1/1 [==============================] - 0s 46ms/step\n",
            "1/1 [==============================] - 0s 35ms/step\n",
            "1/1 [==============================] - 0s 35ms/step\n",
            "1/1 [==============================] - 0s 34ms/step\n",
            "1/1 [==============================] - 0s 36ms/step\n",
            "1/1 [==============================] - 0s 39ms/step\n",
            "1/1 [==============================] - 0s 36ms/step\n",
            "1/1 [==============================] - 0s 35ms/step\n",
            "1/1 [==============================] - 0s 34ms/step\n",
            "1/1 [==============================] - 0s 34ms/step\n",
            "1/1 [==============================] - 0s 48ms/step\n",
            "1/1 [==============================] - 0s 36ms/step\n",
            "1/1 [==============================] - 0s 37ms/step\n",
            "1/1 [==============================] - 0s 34ms/step\n",
            "1/1 [==============================] - 0s 40ms/step\n",
            "1/1 [==============================] - 0s 39ms/step\n",
            "1/1 [==============================] - 0s 36ms/step\n",
            "1/1 [==============================] - 0s 39ms/step\n",
            "1/1 [==============================] - 0s 35ms/step\n",
            "1/1 [==============================] - 0s 40ms/step\n",
            "1/1 [==============================] - 0s 39ms/step\n",
            "1/1 [==============================] - 0s 40ms/step\n",
            "1/1 [==============================] - 0s 40ms/step\n",
            "1/1 [==============================] - 0s 33ms/step\n",
            "1/1 [==============================] - 0s 40ms/step\n",
            "1/1 [==============================] - 0s 38ms/step\n",
            "1/1 [==============================] - 0s 34ms/step\n",
            "1/1 [==============================] - 0s 48ms/step\n",
            "1/1 [==============================] - 0s 40ms/step\n",
            "1/1 [==============================] - 0s 38ms/step\n",
            "1/1 [==============================] - 0s 36ms/step\n",
            "1/1 [==============================] - 0s 39ms/step\n",
            "1/1 [==============================] - 0s 36ms/step\n",
            "1/1 [==============================] - 0s 39ms/step\n",
            "1/1 [==============================] - 0s 42ms/step\n",
            "1/1 [==============================] - 0s 34ms/step\n",
            "1/1 [==============================] - 0s 34ms/step\n",
            "1/1 [==============================] - 0s 36ms/step\n",
            "1/1 [==============================] - 0s 39ms/step\n",
            "1/1 [==============================] - 0s 37ms/step\n",
            "1/1 [==============================] - 0s 35ms/step\n",
            "1/1 [==============================] - 0s 36ms/step\n",
            "1/1 [==============================] - 0s 39ms/step\n",
            "1/1 [==============================] - 0s 41ms/step\n",
            "1/1 [==============================] - 0s 40ms/step\n",
            "1/1 [==============================] - 0s 53ms/step\n",
            "1/1 [==============================] - 0s 34ms/step\n",
            "1/1 [==============================] - 0s 35ms/step\n",
            "1/1 [==============================] - 0s 34ms/step\n",
            "1/1 [==============================] - 0s 42ms/step\n",
            "1/1 [==============================] - 0s 39ms/step\n",
            "1/1 [==============================] - 0s 38ms/step\n",
            "1/1 [==============================] - 0s 35ms/step\n",
            "1/1 [==============================] - 0s 36ms/step\n",
            "1/1 [==============================] - 0s 38ms/step\n",
            "1/1 [==============================] - 0s 32ms/step\n",
            "1/1 [==============================] - 0s 43ms/step\n",
            "1/1 [==============================] - 0s 43ms/step\n",
            "1/1 [==============================] - 0s 34ms/step\n",
            "1/1 [==============================] - 0s 39ms/step\n",
            "1/1 [==============================] - 0s 37ms/step\n",
            "1/1 [==============================] - 0s 37ms/step\n",
            "1/1 [==============================] - 0s 40ms/step\n",
            "1/1 [==============================] - 0s 33ms/step\n",
            "1/1 [==============================] - 0s 33ms/step\n"
          ]
        },
        {
          "output_type": "execute_result",
          "data": {
            "text/plain": [
              "'  shi  au toen the  an  ou  and the  an  ou  and the  an  ou  and the  an '"
            ],
            "application/vnd.google.colaboratory.intrinsic+json": {
              "type": "string"
            }
          },
          "metadata": {},
          "execution_count": 30
        }
      ]
    }
  ]
}