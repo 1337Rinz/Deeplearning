{
  "nbformat": 4,
  "nbformat_minor": 0,
  "metadata": {
    "colab": {
      "provenance": [],
      "authorship_tag": "ABX9TyOilvPHfllnjFaZrHr6Moiv",
      "include_colab_link": true
    },
    "kernelspec": {
      "name": "python3",
      "display_name": "Python 3"
    },
    "language_info": {
      "name": "python"
    }
  },
  "cells": [
    {
      "cell_type": "markdown",
      "metadata": {
        "id": "view-in-github",
        "colab_type": "text"
      },
      "source": [
        "<a href=\"https://colab.research.google.com/github/1337Rinz/Deeplearning/blob/main/facereg_demo.ipynb\" target=\"_parent\"><img src=\"https://colab.research.google.com/assets/colab-badge.svg\" alt=\"Open In Colab\"/></a>"
      ]
    },
    {
      "cell_type": "markdown",
      "source": [
        "#1. Xác định đầu vào và đầu ra của mô hình.\n"
      ],
      "metadata": {
        "id": "T-SCKpLleRfO"
      }
    },
    {
      "cell_type": "code",
      "execution_count": null,
      "metadata": {
        "id": "6gdb4VH0eNvX"
      },
      "outputs": [],
      "source": []
    },
    {
      "cell_type": "markdown",
      "source": [
        "#2. Chuẩn bị dữ liệu huấn luyện và kiểm tra."
      ],
      "metadata": {
        "id": "fRPVpcz5eUSB"
      }
    },
    {
      "cell_type": "code",
      "source": [],
      "metadata": {
        "id": "Ccx4fMjpeXU8"
      },
      "execution_count": null,
      "outputs": []
    },
    {
      "cell_type": "markdown",
      "source": [
        "#3. Xây dựng mô hình CNN.\n"
      ],
      "metadata": {
        "id": "3LFJL-ifeXqK"
      }
    },
    {
      "cell_type": "code",
      "source": [
        "from keras.models import Sequential\n",
        "from keras.layers import Conv2D, MaxPooling2D, Flatten, Dense\n",
        "\n",
        "# Xây dựng mô hình\n",
        "model = Sequential()\n",
        "model.add(Conv2D(32, (3, 3), activation='relu', input_shape=(128, 128, 3)))\n",
        "model.add(MaxPooling2D((2, 2)))\n",
        "model.add(Conv2D(64, (3, 3), activation='relu'))\n",
        "model.add(MaxPooling2D((2, 2)))\n",
        "model.add(Conv2D(128, (3, 3), activation='relu'))\n",
        "model.add(MaxPooling2D((2, 2)))\n",
        "model.add(Flatten())\n",
        "model.add(Dense(128, activation='relu'))\n",
        "model.add(Dense(1, activation='sigmoid'))"
      ],
      "metadata": {
        "id": "y4A3jVbweacp"
      },
      "execution_count": null,
      "outputs": []
    },
    {
      "cell_type": "markdown",
      "source": [
        "#4. Compile mô hình.\n"
      ],
      "metadata": {
        "id": "mzWzreereavF"
      }
    },
    {
      "cell_type": "code",
      "source": [
        "# Compile và huấn luyện mô hình\n",
        "model.compile(optimizer='adam', loss='binary_crossentropy', metrics=['accuracy'])\n",
        "model.fit(train_images, train_labels, epochs=10, batch_size=32, validation_data=(val_images, val_labels))"
      ],
      "metadata": {
        "id": "UBJxumQQecuM"
      },
      "execution_count": null,
      "outputs": []
    },
    {
      "cell_type": "markdown",
      "source": [
        "#5. Huấn luyện mô hình trên dữ liệu huấn luyện."
      ],
      "metadata": {
        "id": "jBwGGrgkeeVQ"
      }
    },
    {
      "cell_type": "code",
      "source": [],
      "metadata": {
        "id": "xPtfJYv0eghF"
      },
      "execution_count": null,
      "outputs": []
    },
    {
      "cell_type": "markdown",
      "source": [
        "#6. Đánh giá mô hình trên dữ liệu kiểm tra.\n"
      ],
      "metadata": {
        "id": "YKlwRCEBeg11"
      }
    },
    {
      "cell_type": "code",
      "source": [],
      "metadata": {
        "id": "_Eo0fV3FeiuJ"
      },
      "execution_count": null,
      "outputs": []
    },
    {
      "cell_type": "markdown",
      "source": [
        "#7. Đánh giá kết quả và tinh chỉnh mô hình.\n"
      ],
      "metadata": {
        "id": "1ncyFmcYeme7"
      }
    },
    {
      "cell_type": "code",
      "source": [],
      "metadata": {
        "id": "1WxqdfZIenVk"
      },
      "execution_count": null,
      "outputs": []
    }
  ]
}